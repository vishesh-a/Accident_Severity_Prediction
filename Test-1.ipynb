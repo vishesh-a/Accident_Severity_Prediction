{
 "cells": [
  {
   "cell_type": "code",
   "execution_count": 166,
   "metadata": {},
   "outputs": [
    {
     "name": "stdout",
     "output_type": "stream",
     "text": [
      "The dataset has 36314 rows and 10 columns\n"
     ]
    },
    {
     "data": {
      "text/html": [
       "<div>\n",
       "<style>\n",
       "    .dataframe thead tr:only-child th {\n",
       "        text-align: right;\n",
       "    }\n",
       "\n",
       "    .dataframe thead th {\n",
       "        text-align: left;\n",
       "    }\n",
       "\n",
       "    .dataframe tbody tr th {\n",
       "        vertical-align: top;\n",
       "    }\n",
       "</style>\n",
       "<table border=\"1\" class=\"dataframe\">\n",
       "  <thead>\n",
       "    <tr style=\"text-align: right;\">\n",
       "      <th></th>\n",
       "      <th>wkt_geom</th>\n",
       "      <th>code</th>\n",
       "      <th>severity</th>\n",
       "      <th>time</th>\n",
       "      <th>lat</th>\n",
       "      <th>desc</th>\n",
       "      <th>lon</th>\n",
       "      <th>name</th>\n",
       "      <th>clust</th>\n",
       "      <th>NN</th>\n",
       "    </tr>\n",
       "  </thead>\n",
       "  <tbody>\n",
       "    <tr>\n",
       "      <th>0</th>\n",
       "      <td>POINT(6119950.59451242536306381 1886366.970110...</td>\n",
       "      <td>201</td>\n",
       "      <td>2</td>\n",
       "      <td>04/10/13 08:00 AM</td>\n",
       "      <td>37.165655</td>\n",
       "      <td>Accident and recovery work on Bear Creek Road ...</td>\n",
       "      <td>-122.015948</td>\n",
       "      <td>Accident(s)</td>\n",
       "      <td>31</td>\n",
       "      <td>11</td>\n",
       "    </tr>\n",
       "    <tr>\n",
       "      <th>1</th>\n",
       "      <td>POINT(6163265.98209197819232941 2195198.763392...</td>\n",
       "      <td>201</td>\n",
       "      <td>2</td>\n",
       "      <td>04/10/13 05:30 PM</td>\n",
       "      <td>38.015568</td>\n",
       "      <td>CA-4 exit ramp partially blocked due to accide...</td>\n",
       "      <td>-121.882976</td>\n",
       "      <td>Accident(s)</td>\n",
       "      <td>14</td>\n",
       "      <td>3</td>\n",
       "    </tr>\n",
       "    <tr>\n",
       "      <th>2</th>\n",
       "      <td>POINT(6156011.13359668850898743 2064637.280291...</td>\n",
       "      <td>201</td>\n",
       "      <td>3</td>\n",
       "      <td>04/10/13 05:55 PM</td>\n",
       "      <td>37.656750</td>\n",
       "      <td>I-680 Southbound exit ramp partially blocked d...</td>\n",
       "      <td>-121.901370</td>\n",
       "      <td>Accident(s)</td>\n",
       "      <td>11</td>\n",
       "      <td>52</td>\n",
       "    </tr>\n",
       "    <tr>\n",
       "      <th>3</th>\n",
       "      <td>POINT(6040154.25608104187995195 2127971.038348...</td>\n",
       "      <td>201</td>\n",
       "      <td>3</td>\n",
       "      <td>04/10/13 06:17 PM</td>\n",
       "      <td>37.825210</td>\n",
       "      <td>Right hand shoulder blocked due to accident on...</td>\n",
       "      <td>-122.305740</td>\n",
       "      <td>Accident(s)</td>\n",
       "      <td>28</td>\n",
       "      <td>11</td>\n",
       "    </tr>\n",
       "    <tr>\n",
       "      <th>4</th>\n",
       "      <td>POINT(6160755.65850416570901871 2058394.601888...</td>\n",
       "      <td>243</td>\n",
       "      <td>3</td>\n",
       "      <td>04/10/13 06:19 PM</td>\n",
       "      <td>37.639801</td>\n",
       "      <td>Lane blocked due to accident on I-680 Southbou...</td>\n",
       "      <td>-121.884663</td>\n",
       "      <td>Accident. Left lane blocked</td>\n",
       "      <td>11</td>\n",
       "      <td>51</td>\n",
       "    </tr>\n",
       "  </tbody>\n",
       "</table>\n",
       "</div>"
      ],
      "text/plain": [
       "                                            wkt_geom  code  severity  \\\n",
       "0  POINT(6119950.59451242536306381 1886366.970110...   201         2   \n",
       "1  POINT(6163265.98209197819232941 2195198.763392...   201         2   \n",
       "2  POINT(6156011.13359668850898743 2064637.280291...   201         3   \n",
       "3  POINT(6040154.25608104187995195 2127971.038348...   201         3   \n",
       "4  POINT(6160755.65850416570901871 2058394.601888...   243         3   \n",
       "\n",
       "                time        lat  \\\n",
       "0  04/10/13 08:00 AM  37.165655   \n",
       "1  04/10/13 05:30 PM  38.015568   \n",
       "2  04/10/13 05:55 PM  37.656750   \n",
       "3  04/10/13 06:17 PM  37.825210   \n",
       "4  04/10/13 06:19 PM  37.639801   \n",
       "\n",
       "                                                desc         lon  \\\n",
       "0  Accident and recovery work on Bear Creek Road ... -122.015948   \n",
       "1  CA-4 exit ramp partially blocked due to accide... -121.882976   \n",
       "2  I-680 Southbound exit ramp partially blocked d... -121.901370   \n",
       "3  Right hand shoulder blocked due to accident on... -122.305740   \n",
       "4  Lane blocked due to accident on I-680 Southbou... -121.884663   \n",
       "\n",
       "                          name  clust  NN  \n",
       "0                  Accident(s)     31  11  \n",
       "1                  Accident(s)     14   3  \n",
       "2                  Accident(s)     11  52  \n",
       "3                  Accident(s)     28  11  \n",
       "4  Accident. Left lane blocked     11  51  "
      ]
     },
     "execution_count": 166,
     "metadata": {},
     "output_type": "execute_result"
    }
   ],
   "source": [
    "%matplotlib inline\n",
    "import warnings\n",
    "warnings.filterwarnings('ignore')\n",
    "import pandas as pd\n",
    "import numpy as np\n",
    "import matplotlib.pyplot as plt\n",
    "import seaborn as sns\n",
    "\n",
    "path = \"/Users/vishesh/Desktop/AIproject\"\n",
    "df = pd.read_csv( path + \"/accidents.csv\" )\n",
    "print (\"The dataset has %d rows and %d columns\" % (df.shape[0] , df.shape[1]))\n",
    "df.head()"
   ]
  },
  {
   "cell_type": "code",
   "execution_count": 167,
   "metadata": {},
   "outputs": [
    {
     "data": {
      "image/png": "[encoded data removed]",
      "text/plain": [
       "<matplotlib.figure.Figure at 0x1a242c1710>"
      ]
     },
     "metadata": {
      "needs_background": "light"
     },
     "output_type": "display_data"
    }
   ],
   "source": [
    "sns.countplot(y = \"severity\" , data = df )\n",
    "plt.tight_layout()"
   ]
  },
  {
   "cell_type": "code",
   "execution_count": 168,
   "metadata": {},
   "outputs": [
    {
     "data": {
      "text/html": [
       "<div>\n",
       "<style>\n",
       "    .dataframe thead tr:only-child th {\n",
       "        text-align: right;\n",
       "    }\n",
       "\n",
       "    .dataframe thead th {\n",
       "        text-align: left;\n",
       "    }\n",
       "\n",
       "    .dataframe tbody tr th {\n",
       "        vertical-align: top;\n",
       "    }\n",
       "</style>\n",
       "<table border=\"1\" class=\"dataframe\">\n",
       "  <thead>\n",
       "    <tr style=\"text-align: right;\">\n",
       "      <th></th>\n",
       "      <th>count</th>\n",
       "    </tr>\n",
       "  </thead>\n",
       "  <tbody>\n",
       "    <tr>\n",
       "      <th>2</th>\n",
       "      <td>20944</td>\n",
       "    </tr>\n",
       "    <tr>\n",
       "      <th>3</th>\n",
       "      <td>15296</td>\n",
       "    </tr>\n",
       "    <tr>\n",
       "      <th>4</th>\n",
       "      <td>54</td>\n",
       "    </tr>\n",
       "    <tr>\n",
       "      <th>1</th>\n",
       "      <td>19</td>\n",
       "    </tr>\n",
       "    <tr>\n",
       "      <th>0</th>\n",
       "      <td>1</td>\n",
       "    </tr>\n",
       "  </tbody>\n",
       "</table>\n",
       "</div>"
      ],
      "text/plain": [
       "   count\n",
       "2  20944\n",
       "3  15296\n",
       "4     54\n",
       "1     19\n",
       "0      1"
      ]
     },
     "execution_count": 168,
     "metadata": {},
     "output_type": "execute_result"
    }
   ],
   "source": [
    "pd.DataFrame( {\"count\": df[\"severity\"].value_counts().values } , index = df[\"severity\"].value_counts().index )"
   ]
  },
  {
   "cell_type": "code",
   "execution_count": 169,
   "metadata": {},
   "outputs": [],
   "source": [
    "df = df.loc[df[\"severity\"] >=  0].loc[df[\"severity\"] <= 4]"
   ]
  },
  {
   "cell_type": "code",
   "execution_count": 170,
   "metadata": {},
   "outputs": [],
   "source": [
    "df[\"month\"] = df[\"time\"].apply(lambda x:int(x[:2]))\n",
    "df[\"day\"] = df[\"time\"].apply(lambda x:int(x[3:5]))\n",
    "df[\"year\"] = df[\"time\"].apply(lambda x:int(x[6:8]))\n",
    "df[\"hour\"] =  df[\"time\"].apply(lambda x: int(x[9:11]) if str(x)[15] == 'A' else 12 + int(x[9:11])  )\n",
    "df[\"lon\"] = df[\"lon\"].apply(lambda x:abs(x))\n",
    "#so that multinomialNB works (only with positive features)\n",
    "#creating the date at the datetime format (easier to deal with)\n",
    "df[ \"date\" ]= df[[\"month\" , \"day\" ,\"year\"]].apply(lambda x:pd.datetime(month = x['month'] , day = x['day']  , year = 2000+x[\"year\"]), axis = 1)\n",
    "df[\"weekday\"] =  df[\"date\"].apply(lambda x:x.weekday())"
   ]
  },
  {
   "cell_type": "code",
   "execution_count": 171,
   "metadata": {},
   "outputs": [
    {
     "data": {
      "image/png": "[encoded data removed]",
      "text/plain": [
       "<matplotlib.figure.Figure at 0x1a25f14b38>"
      ]
     },
     "metadata": {
      "needs_background": "light"
     },
     "output_type": "display_data"
    }
   ],
   "source": [
    "#plotting the dataset with a different color depending on the severity\n",
    "df0 = df.loc[df[\"severity\"] == 0]\n",
    "df1 = df.loc[df[\"severity\"] == 1]\n",
    "df2 = df.loc[df[\"severity\"] == 2]\n",
    "df3 = df.loc[df[\"severity\"] == 3]\n",
    "df4 = df.loc[df[\"severity\"] == 4]\n",
    "\n",
    "xx0 , yy0 = df0[\"lat\"] , -df0[\"lon\"]\n",
    "xx1 , yy1 = df1[\"lat\"] , -df1[\"lon\"]\n",
    "xx2 , yy2 = df2[\"lat\"] , -df2[\"lon\"]\n",
    "xx3 , yy3 = df3[\"lat\"] , -df3[\"lon\"]\n",
    "xx4 , yy4 = df4[\"lat\"] , -df4[\"lon\"]\n",
    "\n",
    "pts0 = plt.scatter(xx0,yy0,color = 'g' )\n",
    "pts1 = plt.scatter(xx1,yy1,color = 'c' )\n",
    "pts2 = plt.scatter(xx2,yy2,color = 'b' )\n",
    "pts3 = plt.scatter(xx3,yy3,color = 'r' )\n",
    "pts4 = plt.scatter(xx4,yy4,color = 'k' )\n",
    "\n",
    "plt.legend((pts0, pts1, pts2, pts3, pts4), ('Severity = 0','Severity = 1','Severity = 2', 'Severity = 3','Severity = 4'),loc='lower left')\n",
    "plt.title(\"Accident Severity Map\")\n",
    "plt.tight_layout()"
   ]
  },
  {
   "cell_type": "code",
   "execution_count": 172,
   "metadata": {},
   "outputs": [
    {
     "data": {
      "image/png": "[encoded data removed]",
      "text/plain": [
       "<matplotlib.figure.Figure at 0x1a282c3630>"
      ]
     },
     "metadata": {
      "needs_background": "light"
     },
     "output_type": "display_data"
    }
   ],
   "source": [
    "sns.countplot(y = \"hour\" , data = df , order = range(1,25))\n",
    "plt.title(\"Number of accidents by hour\")\n",
    "plt.tight_layout()"
   ]
  },
  {
   "cell_type": "code",
   "execution_count": 173,
   "metadata": {},
   "outputs": [
    {
     "data": {
      "image/png": "[encoded data removed]",
      "text/plain": [
       "<matplotlib.figure.Figure at 0x1a244a25f8>"
      ]
     },
     "metadata": {
      "needs_background": "light"
     },
     "output_type": "display_data"
    }
   ],
   "source": [
    "sns.countplot(y = \"month\" , data = df)\n",
    "plt.title(\"Number of accidents by month\")\n",
    "plt.tight_layout()"
   ]
  },
  {
   "cell_type": "code",
   "execution_count": 174,
   "metadata": {},
   "outputs": [
    {
     "data": {
      "image/png": "[encoded data removed]",
      "text/plain": [
       "<matplotlib.figure.Figure at 0x1a2677b668>"
      ]
     },
     "metadata": {
      "needs_background": "light"
     },
     "output_type": "display_data"
    }
   ],
   "source": [
    "sns.countplot(y = \"weekday\" , data = df)\n",
    "plt.title(\"Number of accidents by weekday\")\n",
    "plt.tight_layout()"
   ]
  },
  {
   "cell_type": "code",
   "execution_count": 175,
   "metadata": {},
   "outputs": [
    {
     "name": "stdout",
     "output_type": "stream",
     "text": [
      "    0  1     2     3  4\n",
      "0   0  3  1402  1329  6\n",
      "1   0  1  1283  1015  2\n",
      "2   0  0   778   460  0\n",
      "3   0  0   497   174  0\n",
      "4   0  0   482   201  0\n",
      "5   0  0   446   192  0\n",
      "6   0  0   349   157  1\n",
      "7   0  0   318   147  1\n",
      "8   0  0   316   150  1\n",
      "9   0  0   317   177  0\n",
      "10  0  0   341   217  3\n",
      "11  0  1  1447  1355  1\n",
      "12  0  1   656   596  4\n",
      "13  1  1  1132   892  2\n",
      "14  0  4  1494  1060  3\n",
      "15  0  1  1416   965  2\n",
      "16  0  3  1123   731  3\n",
      "17  0  0   982   625  3\n",
      "18  0  1   993   673  6\n",
      "19  0  1  1017   682  3\n",
      "20  0  0  1040   778  2\n",
      "21  0  2  1300  1061  4\n",
      "22  0  0  1363  1301  2\n",
      "23  0  0   452   358  5\n"
     ]
    }
   ],
   "source": [
    "df = df.loc[df[\"severity\"] >=  0].loc[df[\"severity\"] <= 4]\n",
    "severity_by_hour = pd.crosstab(index = df[\"hour\"] , columns = df[\"severity\"] )\n",
    "severity_by_hour = pd.DataFrame(severity_by_hour.values)\n",
    "print(severity_by_hour)"
   ]
  },
  {
   "cell_type": "code",
   "execution_count": 176,
   "metadata": {},
   "outputs": [
    {
     "data": {
      "image/png": "[encoded data removed]",
      "text/plain": [
       "<matplotlib.figure.Figure at 0x1a271aaeb8>"
      ]
     },
     "metadata": {
      "needs_background": "light"
     },
     "output_type": "display_data"
    }
   ],
   "source": [
    "# correlation heatmap\n",
    "df_corr = df[[\"lat\" , \"lon\" , \"month\" , \"year\" , \"hour\" , \"weekday\" , \"severity\"]]\n",
    "correlation = df_corr.corr()\n",
    "sns.heatmap(correlation)\n",
    "plt.tight_layout()"
   ]
  },
  {
   "cell_type": "code",
   "execution_count": 183,
   "metadata": {},
   "outputs": [],
   "source": [
    "df = df.loc[df[\"severity\"] >  1].loc[df[\"severity\"] < 4]\n",
    "X = df[[\"month\" , \"hour\" , \"year\", \"weekday\" ,\"lon\" , \"lat\"]]\n",
    "y = df[\"severity\"].apply(lambda x:x-2)\n",
    "\n",
    "from sklearn.cross_validation import train_test_split \n",
    "X_train, X_test, y_train, y_test = train_test_split(X, y, test_size=0.30, random_state=42) "
   ]
  },
  {
   "cell_type": "code",
   "execution_count": 184,
   "metadata": {},
   "outputs": [],
   "source": [
    "#using the metrics package\n",
    "from sklearn.metrics import *\n",
    "import warnings\n",
    "warnings.filterwarnings(\"ignore\", category=DeprecationWarning) \n",
    "def printScores(y_test, y_pred, classif_name):    \n",
    "    print (\"--------------  \"  + classif_name + \"  ------------------\")  \n",
    "    print (\"recall : %0.5f\" %  recall_score(y_test, y_pred)) \n",
    "    print (\"precision : %0.5f\" %  precision_score(y_test, y_pred))   \n",
    "    print (\"f1 : %0.5f\" %  f1_score(y_test, y_pred))  \n",
    "    print (\"accuracy : %0.5f\" %  accuracy_score(y_test, y_pred))  \n",
    "    print (\"---------------------------------------------------\")  "
   ]
  },
  {
   "cell_type": "code",
   "execution_count": 185,
   "metadata": {},
   "outputs": [],
   "source": [
    "from sklearn import metrics\n",
    "from sklearn.ensemble import BaggingClassifier\n",
    "from sklearn.ensemble import RandomForestClassifier\n",
    "from sklearn.ensemble import AdaBoostClassifier\n",
    "from sklearn.svm import SVC"
   ]
  },
  {
   "cell_type": "code",
   "execution_count": 180,
   "metadata": {},
   "outputs": [],
   "source": [
    "df = df.loc[df[\"severity\"] >  1].loc[df[\"severity\"] < 4]\n",
    "X_train2 = X_train[[\"lat\" , \"lon\" ]]\n",
    "X_test2 = X_test[[\"lat\" , \"lon\" ]]"
   ]
  },
  {
   "cell_type": "code",
   "execution_count": 293,
   "metadata": {},
   "outputs": [
    {
     "name": "stdout",
     "output_type": "stream",
     "text": [
      "--------------  Hybrid-1  ------------------\n",
      "recall : 0.50610\n",
      "precision : 0.62862\n",
      "f1 : 0.56074\n",
      "accuracy : 0.66510\n",
      "---------------------------------------------------\n"
     ]
    }
   ],
   "source": [
    "# Hybrid-1\n",
    "\n",
    "# Creation of the RandomForest Classifier\n",
    "clf = RandomForestClassifier(n_estimators = 100)\n",
    "# Creation of the Adaboost Classifier\n",
    "abc =AdaBoostClassifier(n_estimators=10, base_estimator=clf,learning_rate=1)\n",
    "# Creation of the Bagging Classifier over Adaboost\n",
    "mod = BaggingClassifier(n_estimators=10, base_estimator=abc,max_samples=10,warm_start=True)\n",
    "modelB = mod.fit(X_train2,y_train)\n",
    "y_pred = modelB.predict(X_test2)\n",
    "printScores(y_test, y_pred, \"Hybrid-1\") "
   ]
  },
  {
   "cell_type": "code",
   "execution_count": 295,
   "metadata": {},
   "outputs": [
    {
     "name": "stdout",
     "output_type": "stream",
     "text": [
      "--------------  Hybrid-2  ------------------\n",
      "recall : 0.95383\n",
      "precision : 0.87582\n",
      "f1 : 0.91317\n",
      "accuracy : 0.92338\n",
      "---------------------------------------------------\n"
     ]
    }
   ],
   "source": [
    "# Hybrid-2\n",
    "\n",
    "# Creation of the RandomForest Classifier\n",
    "clf = RandomForestClassifier(n_estimators = 500)\n",
    "# Creation of the Bagging Classifier\n",
    "bag = BaggingClassifier(n_estimators=20, base_estimator=clf,max_samples=1200,warm_start=True)\n",
    "# Creation of the Adaboost Classifier over Bagging\n",
    "mod = AdaBoostClassifier(n_estimators=75, base_estimator=bag,learning_rate=1)\n",
    "modelC = mod.fit(X_train2,y_train)\n",
    "y_pred = modelC.predict(X_test2)\n",
    "printScores(y_test, y_pred, \"Hybrid-2\")"
   ]
  },
  {
   "cell_type": "code",
   "execution_count": 291,
   "metadata": {},
   "outputs": [
    {
     "name": "stdout",
     "output_type": "stream",
     "text": [
      "--------------  RandomForestClassifier  ------------------\n",
      "recall : 0.95884\n",
      "precision : 0.92209\n",
      "f1 : 0.94011\n",
      "accuracy : 0.94840\n",
      "---------------------------------------------------\n"
     ]
    }
   ],
   "source": [
    "# Random forest\n",
    "\n",
    "clf = RandomForestClassifier(n_estimators = 500)\n",
    "clf.fit(X_train2,y_train)\n",
    "y_pred = clf.predict(X_test2)\n",
    "printScores(y_test, y_pred, \"RandomForestClassifier\")"
   ]
  },
  {
   "cell_type": "code",
   "execution_count": 288,
   "metadata": {},
   "outputs": [
    {
     "name": "stdout",
     "output_type": "stream",
     "text": [
      "--------------  Adaboost  ------------------\n",
      "recall : 0.82513\n",
      "precision : 0.76763\n",
      "f1 : 0.79534\n",
      "accuracy : 0.82064\n",
      "---------------------------------------------------\n"
     ]
    }
   ],
   "source": [
    "# Adaboost Classifier\n",
    "\n",
    "mod = AdaBoostClassifier(n_estimators=500,learning_rate=1)\n",
    "modelD = mod.fit(X_train2,y_train)\n",
    "y_pred = modelD.predict(X_test2)\n",
    "printScores(y_test, y_pred, \"Adaboost\") "
   ]
  },
  {
   "cell_type": "code",
   "execution_count": 290,
   "metadata": {},
   "outputs": [
    {
     "name": "stdout",
     "output_type": "stream",
     "text": [
      "--------------  Bagging  ------------------\n",
      "recall : 0.60126\n",
      "precision : 0.63442\n",
      "f1 : 0.61740\n",
      "accuracy : 0.68525\n",
      "---------------------------------------------------\n"
     ]
    }
   ],
   "source": [
    "# Bagging Classifier\n",
    "\n",
    "mod = BaggingClassifier(n_estimators=500,max_samples=10,warm_start=True)\n",
    "modelB = mod.fit(X_train2,y_train)\n",
    "y_pred = modelB.predict(X_test2)\n",
    "printScores(y_test, y_pred, \"Bagging\") "
   ]
  },
  {
   "cell_type": "code",
   "execution_count": null,
   "metadata": {},
   "outputs": [],
   "source": []
  },
  {
   "cell_type": "code",
   "execution_count": null,
   "metadata": {},
   "outputs": [],
   "source": []
  }
 ],
 "metadata": {
  "kernelspec": {
   "display_name": "Python 3",
   "language": "python",
   "name": "python3"
  },
  "language_info": {
   "codemirror_mode": {
    "name": "ipython",
    "version": 3
   },
   "file_extension": ".py",
   "mimetype": "text/x-python",
   "name": "python",
   "nbconvert_exporter": "python",
   "pygments_lexer": "ipython3",
   "version": "3.6.3"
  }
 },
 "nbformat": 4,
 "nbformat_minor": 2
}
